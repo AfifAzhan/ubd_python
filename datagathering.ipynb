{
 "cells": [
  {
   "cell_type": "markdown",
   "id": "neutral-angel",
   "metadata": {},
   "source": [
    "## Importing libraries"
   ]
  },
  {
   "cell_type": "code",
   "execution_count": 1,
   "id": "controlling-baptist",
   "metadata": {},
   "outputs": [],
   "source": [
    "import os\n",
    "import pandas as pd\n",
    "from bs4 import BeautifulSoup\n",
    "import requests\n",
    "import json"
   ]
  },
  {
   "cell_type": "markdown",
   "id": "rising-treatment",
   "metadata": {},
   "source": [
    "## Creating CSV to store Data Frame"
   ]
  },
  {
   "cell_type": "code",
   "execution_count": 2,
   "id": "endangered-hands",
   "metadata": {},
   "outputs": [],
   "source": [
    "#creating a csv file to store the dataframe\n",
    "csv_file = './data/movies/rt.csv'"
   ]
  },
  {
   "cell_type": "markdown",
   "id": "numeric-buffer",
   "metadata": {},
   "source": [
    "## Parsing HTML\n",
    "* using html.parser function of BeautifulSoup"
   ]
  },
  {
   "cell_type": "code",
   "execution_count": 3,
   "id": "secondary-louis",
   "metadata": {},
   "outputs": [],
   "source": [
    "#url of page to be scrapped\n",
    "URL = 'https://www.rottentomatoes.com/top/bestofrt/'\n",
    "page = requests.get(URL)\n",
    "\n",
    "soup = BeautifulSoup(page.content, 'html.parser')\n"
   ]
  },
  {
   "cell_type": "markdown",
   "id": "preceding-responsibility",
   "metadata": {},
   "source": [
    "## BeautifulSoup HTML Scrapping\n",
    "* filter to table tag of movies' information\n",
    "* saving the table content under data_frame\n"
   ]
  },
  {
   "cell_type": "code",
   "execution_count": null,
   "id": "dedicated-powder",
   "metadata": {
    "scrolled": true
   },
   "outputs": [],
   "source": [
    "data = {}\n",
    "\n",
    "table = soup.find('table', {'class':'table'})\n",
    "rows = table.findAll('td')\n",
    "print(table)\n",
    "data_frame = pd.read_html(str(table))[0]"
   ]
  },
  {
   "cell_type": "markdown",
   "id": "indian-blair",
   "metadata": {},
   "source": [
    "## Saving Data Frame as .csv file\n",
    "* Acquired ranking of Movies "
   ]
  },
  {
   "cell_type": "code",
   "execution_count": 5,
   "id": "armed-converter",
   "metadata": {},
   "outputs": [],
   "source": [
    "data_frame.to_csv('mydata.csv', index=False)"
   ]
  },
  {
   "cell_type": "code",
   "execution_count": 6,
   "id": "anticipated-singapore",
   "metadata": {},
   "outputs": [
    {
     "data": {
      "text/html": [
       "<div>\n",
       "<style scoped>\n",
       "    .dataframe tbody tr th:only-of-type {\n",
       "        vertical-align: middle;\n",
       "    }\n",
       "\n",
       "    .dataframe tbody tr th {\n",
       "        vertical-align: top;\n",
       "    }\n",
       "\n",
       "    .dataframe thead th {\n",
       "        text-align: right;\n",
       "    }\n",
       "</style>\n",
       "<table border=\"1\" class=\"dataframe\">\n",
       "  <thead>\n",
       "    <tr style=\"text-align: right;\">\n",
       "      <th></th>\n",
       "      <th>Rank</th>\n",
       "      <th>RatingTomatometer</th>\n",
       "      <th>Title</th>\n",
       "      <th>No. of Reviews</th>\n",
       "    </tr>\n",
       "  </thead>\n",
       "  <tbody>\n",
       "    <tr>\n",
       "      <th>0</th>\n",
       "      <td>1.0</td>\n",
       "      <td>96%</td>\n",
       "      <td>Black Panther (2018)</td>\n",
       "      <td>519</td>\n",
       "    </tr>\n",
       "    <tr>\n",
       "      <th>1</th>\n",
       "      <td>2.0</td>\n",
       "      <td>99%</td>\n",
       "      <td>Citizen Kane (1941)</td>\n",
       "      <td>115</td>\n",
       "    </tr>\n",
       "    <tr>\n",
       "      <th>2</th>\n",
       "      <td>3.0</td>\n",
       "      <td>98%</td>\n",
       "      <td>Parasite (Gisaengchung) (2019)</td>\n",
       "      <td>458</td>\n",
       "    </tr>\n",
       "    <tr>\n",
       "      <th>3</th>\n",
       "      <td>4.0</td>\n",
       "      <td>94%</td>\n",
       "      <td>Avengers: Endgame (2019)</td>\n",
       "      <td>538</td>\n",
       "    </tr>\n",
       "    <tr>\n",
       "      <th>4</th>\n",
       "      <td>5.0</td>\n",
       "      <td>99%</td>\n",
       "      <td>Casablanca (1942)</td>\n",
       "      <td>121</td>\n",
       "    </tr>\n",
       "    <tr>\n",
       "      <th>...</th>\n",
       "      <td>...</td>\n",
       "      <td>...</td>\n",
       "      <td>...</td>\n",
       "      <td>...</td>\n",
       "    </tr>\n",
       "    <tr>\n",
       "      <th>95</th>\n",
       "      <td>96.0</td>\n",
       "      <td>90%</td>\n",
       "      <td>Shazam! (2019)</td>\n",
       "      <td>409</td>\n",
       "    </tr>\n",
       "    <tr>\n",
       "      <th>96</th>\n",
       "      <td>97.0</td>\n",
       "      <td>98%</td>\n",
       "      <td>Jaws (1975)</td>\n",
       "      <td>90</td>\n",
       "    </tr>\n",
       "    <tr>\n",
       "      <th>97</th>\n",
       "      <td>98.0</td>\n",
       "      <td>98%</td>\n",
       "      <td>The Godfather, Part II (1974)</td>\n",
       "      <td>85</td>\n",
       "    </tr>\n",
       "    <tr>\n",
       "      <th>98</th>\n",
       "      <td>99.0</td>\n",
       "      <td>94%</td>\n",
       "      <td>The Dark Knight (2008)</td>\n",
       "      <td>344</td>\n",
       "    </tr>\n",
       "    <tr>\n",
       "      <th>99</th>\n",
       "      <td>100.0</td>\n",
       "      <td>100%</td>\n",
       "      <td>Pinocchio (1940)</td>\n",
       "      <td>56</td>\n",
       "    </tr>\n",
       "  </tbody>\n",
       "</table>\n",
       "<p>100 rows × 4 columns</p>\n",
       "</div>"
      ],
      "text/plain": [
       "     Rank RatingTomatometer                           Title  No. of Reviews\n",
       "0     1.0               96%            Black Panther (2018)             519\n",
       "1     2.0               99%             Citizen Kane (1941)             115\n",
       "2     3.0               98%  Parasite (Gisaengchung) (2019)             458\n",
       "3     4.0               94%        Avengers: Endgame (2019)             538\n",
       "4     5.0               99%               Casablanca (1942)             121\n",
       "..    ...               ...                             ...             ...\n",
       "95   96.0               90%                  Shazam! (2019)             409\n",
       "96   97.0               98%                     Jaws (1975)              90\n",
       "97   98.0               98%   The Godfather, Part II (1974)              85\n",
       "98   99.0               94%          The Dark Knight (2008)             344\n",
       "99  100.0              100%                Pinocchio (1940)              56\n",
       "\n",
       "[100 rows x 4 columns]"
      ]
     },
     "execution_count": 6,
     "metadata": {},
     "output_type": "execute_result"
    }
   ],
   "source": [
    "data_frame"
   ]
  },
  {
   "cell_type": "code",
   "execution_count": 11,
   "id": "basic-superior",
   "metadata": {},
   "outputs": [],
   "source": [
    "data_frame.to_csv(csv_file, index = False)"
   ]
  },
  {
   "cell_type": "code",
   "execution_count": null,
   "id": "irish-apache",
   "metadata": {},
   "outputs": [],
   "source": []
  }
 ],
 "metadata": {
  "kernelspec": {
   "display_name": "Python 3",
   "language": "python",
   "name": "python3"
  },
  "language_info": {
   "codemirror_mode": {
    "name": "ipython",
    "version": 3
   },
   "file_extension": ".py",
   "mimetype": "text/x-python",
   "name": "python",
   "nbconvert_exporter": "python",
   "pygments_lexer": "ipython3",
   "version": "3.9.1"
  }
 },
 "nbformat": 4,
 "nbformat_minor": 5
}
